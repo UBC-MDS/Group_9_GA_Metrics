{
 "cells": [
  {
   "cell_type": "code",
   "execution_count": 2,
   "id": "310ca497-fa73-484f-8ddd-c2259b792b69",
   "metadata": {},
   "outputs": [
    {
     "data": {
      "text/html": [
       "<div>\n",
       "<style scoped>\n",
       "    .dataframe tbody tr th:only-of-type {\n",
       "        vertical-align: middle;\n",
       "    }\n",
       "\n",
       "    .dataframe tbody tr th {\n",
       "        vertical-align: top;\n",
       "    }\n",
       "\n",
       "    .dataframe thead th {\n",
       "        text-align: right;\n",
       "    }\n",
       "</style>\n",
       "<table border=\"1\" class=\"dataframe\">\n",
       "  <thead>\n",
       "    <tr style=\"text-align: right;\">\n",
       "      <th></th>\n",
       "      <th>visitorId</th>\n",
       "      <th>visitNumber</th>\n",
       "      <th>transactionId</th>\n",
       "      <th>transactionRevenue</th>\n",
       "    </tr>\n",
       "  </thead>\n",
       "  <tbody>\n",
       "    <tr>\n",
       "      <th>0</th>\n",
       "      <td>3732</td>\n",
       "      <td>1</td>\n",
       "      <td>NaN</td>\n",
       "      <td>NaN</td>\n",
       "    </tr>\n",
       "    <tr>\n",
       "      <th>1</th>\n",
       "      <td>4264</td>\n",
       "      <td>1</td>\n",
       "      <td>NaN</td>\n",
       "      <td>NaN</td>\n",
       "    </tr>\n",
       "    <tr>\n",
       "      <th>2</th>\n",
       "      <td>5859</td>\n",
       "      <td>2</td>\n",
       "      <td>NaN</td>\n",
       "      <td>NaN</td>\n",
       "    </tr>\n",
       "    <tr>\n",
       "      <th>3</th>\n",
       "      <td>8891</td>\n",
       "      <td>1</td>\n",
       "      <td>71073.0</td>\n",
       "      <td>196.389637</td>\n",
       "    </tr>\n",
       "    <tr>\n",
       "      <th>4</th>\n",
       "      <td>5373</td>\n",
       "      <td>1</td>\n",
       "      <td>NaN</td>\n",
       "      <td>NaN</td>\n",
       "    </tr>\n",
       "  </tbody>\n",
       "</table>\n",
       "</div>"
      ],
      "text/plain": [
       "   visitorId  visitNumber  transactionId  transactionRevenue\n",
       "0       3732            1            NaN                 NaN\n",
       "1       4264            1            NaN                 NaN\n",
       "2       5859            2            NaN                 NaN\n",
       "3       8891            1        71073.0          196.389637\n",
       "4       5373            1            NaN                 NaN"
      ]
     },
     "execution_count": 2,
     "metadata": {},
     "output_type": "execute_result"
    }
   ],
   "source": [
    "import numpy as np\n",
    "import pandas as pd\n",
    "\n",
    "\n",
    "\n",
    "np.random.seed(0)  \n",
    "\n",
    "\n",
    "n_samples = 100\n",
    "visitor_ids = np.random.randint(1000, 9999, size=n_samples)\n",
    "visit_numbers = np.random.choice([1, 2, 3, 4, 5], size=n_samples, p=[0.5, 0.2, 0.15, 0.1, 0.05])\n",
    "transaction_ids = [None if np.random.rand() > 0.2 else np.random.randint(10000, 99999) for _ in range(n_samples)]\n",
    "transaction_revenues = [None if tid is None else np.random.uniform(50, 500) for tid in transaction_ids]\n",
    "\n",
    "\n",
    "toy_data = pd.DataFrame({\n",
    "    'visitorId': visitor_ids,\n",
    "    'visitNumber': visit_numbers,\n",
    "    'transactionId': transaction_ids,\n",
    "    'transactionRevenue': transaction_revenues\n",
    "})\n",
    "\n",
    "\n",
    "toy_data.head()"
   ]
  },
  {
   "cell_type": "code",
   "execution_count": null,
   "id": "dd22abf4-d6ad-4df1-9812-b1ad453b9750",
   "metadata": {},
   "outputs": [],
   "source": []
  }
 ],
 "metadata": {
  "kernelspec": {
   "display_name": "Python 3 (ipykernel)",
   "language": "python",
   "name": "python3"
  },
  "language_info": {
   "codemirror_mode": {
    "name": "ipython",
    "version": 3
   },
   "file_extension": ".py",
   "mimetype": "text/x-python",
   "name": "python",
   "nbconvert_exporter": "python",
   "pygments_lexer": "ipython3",
   "version": "3.9.18"
  }
 },
 "nbformat": 4,
 "nbformat_minor": 5
}
