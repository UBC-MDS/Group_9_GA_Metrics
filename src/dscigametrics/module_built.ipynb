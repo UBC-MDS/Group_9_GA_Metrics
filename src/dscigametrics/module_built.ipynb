{
 "cells": [
  {
   "cell_type": "code",
   "execution_count": 1,
   "id": "6246b8c8-4623-4c87-9ec4-cc1d1ae2e00d",
   "metadata": {},
   "outputs": [],
   "source": [
    "import pandas as pd\n",
    "import numpy as np"
   ]
  },
  {
   "cell_type": "code",
   "execution_count": 4,
   "id": "9c744c74-4c45-46fc-b115-83d85224715d",
   "metadata": {},
   "outputs": [],
   "source": [
    "test_data = pd.read_csv(\"../../tests/toy_data_large.csv\")"
   ]
  },
  {
   "cell_type": "code",
   "execution_count": 6,
   "id": "ee9cbbf2-6a72-47dc-a00b-adecd2093818",
   "metadata": {},
   "outputs": [
    {
     "data": {
      "text/html": [
       "<div>\n",
       "<style scoped>\n",
       "    .dataframe tbody tr th:only-of-type {\n",
       "        vertical-align: middle;\n",
       "    }\n",
       "\n",
       "    .dataframe tbody tr th {\n",
       "        vertical-align: top;\n",
       "    }\n",
       "\n",
       "    .dataframe thead th {\n",
       "        text-align: right;\n",
       "    }\n",
       "</style>\n",
       "<table border=\"1\" class=\"dataframe\">\n",
       "  <thead>\n",
       "    <tr style=\"text-align: right;\">\n",
       "      <th></th>\n",
       "      <th>visitorId</th>\n",
       "      <th>visitNumber</th>\n",
       "      <th>transactionId</th>\n",
       "      <th>transactionRevenue</th>\n",
       "      <th>startDate</th>\n",
       "      <th>endDate</th>\n",
       "      <th>campaignId</th>\n",
       "    </tr>\n",
       "  </thead>\n",
       "  <tbody>\n",
       "    <tr>\n",
       "      <th>0</th>\n",
       "      <td>7827</td>\n",
       "      <td>4</td>\n",
       "      <td>NaN</td>\n",
       "      <td>NaN</td>\n",
       "      <td>2023/7/8 10:18</td>\n",
       "      <td>2023/11/15 13:31</td>\n",
       "      <td>100</td>\n",
       "    </tr>\n",
       "    <tr>\n",
       "      <th>1</th>\n",
       "      <td>6604</td>\n",
       "      <td>1</td>\n",
       "      <td>NaN</td>\n",
       "      <td>NaN</td>\n",
       "      <td>2023/10/9 17:33</td>\n",
       "      <td>2023/11/18 07:03</td>\n",
       "      <td>102</td>\n",
       "    </tr>\n",
       "    <tr>\n",
       "      <th>2</th>\n",
       "      <td>7509</td>\n",
       "      <td>2</td>\n",
       "      <td>NaN</td>\n",
       "      <td>NaN</td>\n",
       "      <td>2023/11/26 05:34</td>\n",
       "      <td>2023/12/10 20:44</td>\n",
       "      <td>103</td>\n",
       "    </tr>\n",
       "    <tr>\n",
       "      <th>3</th>\n",
       "      <td>8874</td>\n",
       "      <td>1</td>\n",
       "      <td>NaN</td>\n",
       "      <td>NaN</td>\n",
       "      <td>2023/5/27 10:25</td>\n",
       "      <td>2023/12/23 01:45</td>\n",
       "      <td>102</td>\n",
       "    </tr>\n",
       "    <tr>\n",
       "      <th>4</th>\n",
       "      <td>9417</td>\n",
       "      <td>1</td>\n",
       "      <td>NaN</td>\n",
       "      <td>NaN</td>\n",
       "      <td>2023/1/23 17:15</td>\n",
       "      <td>2023/5/10 00:27</td>\n",
       "      <td>104</td>\n",
       "    </tr>\n",
       "  </tbody>\n",
       "</table>\n",
       "</div>"
      ],
      "text/plain": [
       "   visitorId  visitNumber  transactionId  transactionRevenue  \\\n",
       "0       7827            4            NaN                 NaN   \n",
       "1       6604            1            NaN                 NaN   \n",
       "2       7509            2            NaN                 NaN   \n",
       "3       8874            1            NaN                 NaN   \n",
       "4       9417            1            NaN                 NaN   \n",
       "\n",
       "          startDate           endDate  campaignId  \n",
       "0    2023/7/8 10:18  2023/11/15 13:31         100  \n",
       "1   2023/10/9 17:33  2023/11/18 07:03         102  \n",
       "2  2023/11/26 05:34  2023/12/10 20:44         103  \n",
       "3   2023/5/27 10:25  2023/12/23 01:45         102  \n",
       "4   2023/1/23 17:15   2023/5/10 00:27         104  "
      ]
     },
     "execution_count": 6,
     "metadata": {},
     "output_type": "execute_result"
    }
   ],
   "source": [
    "test_data.head()"
   ]
  },
  {
   "cell_type": "code",
   "execution_count": 18,
   "id": "0d84b51a-1370-4351-86ad-ce6a400f7f92",
   "metadata": {},
   "outputs": [
    {
     "name": "stdout",
     "output_type": "stream",
     "text": [
      "<class 'pandas.core.frame.DataFrame'>\n",
      "RangeIndex: 500 entries, 0 to 499\n",
      "Data columns (total 7 columns):\n",
      " #   Column              Non-Null Count  Dtype  \n",
      "---  ------              --------------  -----  \n",
      " 0   visitorId           500 non-null    int64  \n",
      " 1   visitNumber         500 non-null    int64  \n",
      " 2   transactionId       104 non-null    float64\n",
      " 3   transactionRevenue  104 non-null    float64\n",
      " 4   startDate           500 non-null    object \n",
      " 5   endDate             500 non-null    object \n",
      " 6   campaignId          500 non-null    int64  \n",
      "dtypes: float64(2), int64(3), object(2)\n",
      "memory usage: 27.5+ KB\n"
     ]
    }
   ],
   "source": [
    "test_data.info()"
   ]
  },
  {
   "cell_type": "code",
   "execution_count": 14,
   "id": "bb4870a1-bb79-4c2b-bae2-3c9d429b130d",
   "metadata": {},
   "outputs": [
    {
     "name": "stdout",
     "output_type": "stream",
     "text": [
      "the beginning date of the start date: 2023/1/1 20:29\n",
      "the last date of the start date: 2023/9/9 03:54\n"
     ]
    }
   ],
   "source": [
    "print('the beginning date of the start date: {}'.format(test_data['startDate'].min()))\n",
    "print('the last date of the start date: {}'.format(test_data['startDate'].max()))"
   ]
  },
  {
   "cell_type": "code",
   "execution_count": 15,
   "id": "3cc6d68e-7e18-480a-ba85-7f93fd24c4d4",
   "metadata": {},
   "outputs": [
    {
     "name": "stdout",
     "output_type": "stream",
     "text": [
      "the beginning date of the end date: 2023/1/21 14:59\n",
      "the last date of the end date: 2023/9/9 17:07\n"
     ]
    }
   ],
   "source": [
    "print('the beginning date of the end date: {}'.format(test_data['endDate'].min()))\n",
    "print('the last date of the end date: {}'.format(test_data['endDate'].max()))"
   ]
  },
  {
   "cell_type": "code",
   "execution_count": 19,
   "id": "7dbc6652-30a9-452c-8f10-5d943c41b7bd",
   "metadata": {},
   "outputs": [
    {
     "data": {
      "text/plain": [
       "{'new_to_return_rate': 1.1666666666666667,\n",
       " 'conversion_rate': 0.15384615384615385,\n",
       " 'total_transaction_revenue': 4718.21007335,\n",
       " 'average_transaction_revenue': 262.1227818527778}"
      ]
     },
     "execution_count": 19,
     "metadata": {},
     "output_type": "execute_result"
    }
   ],
   "source": [
    "def compute_metrics(data, campaign_id, start_date, end_date):\n",
    "    \n",
    "    data['startDate'] = pd.to_datetime(data['startDate'])\n",
    "    data['endDate'] = pd.to_datetime(data['endDate'])\n",
    "\n",
    "    filtered_data = data[(data['campaignId'] == campaign_id) & \n",
    "                         (data['startDate'] >= start_date) & \n",
    "                         (data['endDate'] <= end_date)]\n",
    "\n",
    "    new_visitors = filtered_data['visitNumber'] == 1\n",
    "    returning_visitors = filtered_data['visitNumber'] > 1\n",
    "    new_to_return_rate = new_visitors.sum() / returning_visitors.sum() if returning_visitors.sum() > 0 else 0\n",
    "\n",
    "    conversions = filtered_data['transactionId'].notna()\n",
    "    conversion_rate = conversions.sum() / len(filtered_data) if len(filtered_data) > 0 else 0\n",
    "\n",
    "    total_transaction_revenue = filtered_data['transactionRevenue'].sum()\n",
    "    average_transaction_revenue = filtered_data['transactionRevenue'][conversions].mean() if conversions.sum() > 0 else 0\n",
    "\n",
    "    return {\n",
    "        'new_to_return_rate': new_to_return_rate,\n",
    "        'conversion_rate': conversion_rate,\n",
    "        'total_transaction_revenue': total_transaction_revenue,\n",
    "        'average_transaction_revenue': average_transaction_revenue\n",
    "    }\n",
    "\n",
    "\n",
    "example_campaign_id = 100\n",
    "example_start_date = pd.to_datetime('2023-01-01')\n",
    "example_end_date = pd.to_datetime('2023-12-31')\n",
    "\n",
    "metrics = compute_metrics(test_data, example_campaign_id, example_start_date, example_end_date)\n",
    "metrics\n"
   ]
  },
  {
   "cell_type": "code",
   "execution_count": 21,
   "id": "c1b83f96-0223-440c-8910-748542c8a407",
   "metadata": {},
   "outputs": [
    {
     "data": {
      "text/plain": [
       "{'best_campaign': {'id': 104, 'value': 0.25},\n",
       " 'worst_campaign': {'id': 100, 'value': 0.15384615384615385}}"
      ]
     },
     "execution_count": 21,
     "metadata": {},
     "output_type": "execute_result"
    }
   ],
   "source": [
    "import pandas as pd\n",
    "import numpy as np\n",
    "\n",
    "\n",
    "def compute_metrics(data, campaign_id, start_date, end_date):\n",
    "    data['startDate'] = pd.to_datetime(data['startDate'])\n",
    "    data['endDate'] = pd.to_datetime(data['endDate'])\n",
    "\n",
    "    filtered_data = data[(data['campaignId'] == campaign_id) & \n",
    "                         (data['startDate'] >= start_date) & \n",
    "                         (data['endDate'] <= end_date)]\n",
    "\n",
    "    new_visitors = filtered_data['visitNumber'] == 1\n",
    "    returning_visitors = filtered_data['visitNumber'] > 1\n",
    "    new_to_return_rate = new_visitors.sum() / returning_visitors.sum() if returning_visitors.sum() > 0 else 0\n",
    "\n",
    "    conversions = filtered_data['transactionId'].notna()\n",
    "    conversion_rate = conversions.sum() / len(filtered_data) if len(filtered_data) > 0 else 0\n",
    "\n",
    "    total_transaction_revenue = filtered_data['transactionRevenue'].sum()\n",
    "    average_transaction_revenue = filtered_data['transactionRevenue'][conversions].mean() if conversions.sum() > 0 else 0\n",
    "\n",
    "    return {\n",
    "        'new_to_return_rate': new_to_return_rate,\n",
    "        'conversion_rate': conversion_rate,\n",
    "        'total_transaction_revenue': total_transaction_revenue,\n",
    "        'average_transaction_revenue': average_transaction_revenue\n",
    "    }\n",
    "\n",
    "\n",
    "def find_campaigns(data, start_date, end_date, campaign_ids, metric):\n",
    "    campaign_metrics = {}\n",
    "    for cid in campaign_ids:\n",
    "        metrics = compute_metrics(data, cid, start_date, end_date)\n",
    "        campaign_metrics[cid] = metrics.get(metric, 0)\n",
    "\n",
    "    best_campaign = max(campaign_metrics, key=campaign_metrics.get)\n",
    "    worst_campaign = min(campaign_metrics, key=campaign_metrics.get)\n",
    "\n",
    "    return {\n",
    "        'best_campaign': {'id': best_campaign, 'value': campaign_metrics[best_campaign]},\n",
    "        'worst_campaign': {'id': worst_campaign, 'value': campaign_metrics[worst_campaign]}\n",
    "    }\n",
    "\n",
    "\n",
    "\n",
    "example_campaign_ids = [100, 101, 102, 103, 104]\n",
    "example_metric = 'conversion_rate'\n",
    "example_start_date = pd.to_datetime('2023-01-01')\n",
    "example_end_date = pd.to_datetime('2023-12-31')\n",
    "\n",
    "\n",
    "best_and_worst_campaigns = find_campaigns(test_data, example_start_date, example_end_date, example_campaign_ids, example_metric)\n",
    "best_and_worst_campaigns\n",
    "\n"
   ]
  },
  {
   "cell_type": "code",
   "execution_count": null,
   "id": "03970630-8594-48d7-8793-cfd982efe85b",
   "metadata": {},
   "outputs": [],
   "source": []
  },
  {
   "cell_type": "code",
   "execution_count": null,
   "id": "9665fbe2-bfdd-4366-9cf1-691c359b0a89",
   "metadata": {},
   "outputs": [],
   "source": []
  },
  {
   "cell_type": "code",
   "execution_count": null,
   "id": "2d589f26-6210-4aab-98de-d3ce4a78b8ab",
   "metadata": {},
   "outputs": [],
   "source": []
  }
 ],
 "metadata": {
  "kernelspec": {
   "display_name": "Python 3 (ipykernel)",
   "language": "python",
   "name": "python3"
  },
  "language_info": {
   "codemirror_mode": {
    "name": "ipython",
    "version": 3
   },
   "file_extension": ".py",
   "mimetype": "text/x-python",
   "name": "python",
   "nbconvert_exporter": "python",
   "pygments_lexer": "ipython3",
   "version": "3.11.6"
  }
 },
 "nbformat": 4,
 "nbformat_minor": 5
}
