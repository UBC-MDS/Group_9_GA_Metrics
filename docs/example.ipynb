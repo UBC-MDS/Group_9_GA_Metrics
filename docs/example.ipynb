{
 "cells": [
  {
   "cell_type": "markdown",
   "metadata": {},
   "source": [
    "# Example usage\n",
    "## Overview\n",
    "Here we will illustrate the use of the dscigametrics package to compute and analyze four key metrics within a specified time frame:\n",
    "- **Ratio of new to returning visitors**: measures the ratio of new users to returning users of each campaign in certain period.\n",
    "- **Conversion rate**: measures the percentage of users who complete a specific desired action of each campaign in certain period.\n",
    "- **Total transaction revenue**: measures total transaction revenue of each campaign in certain period.\n",
    "- **Average transaction revenue**: measures average transaction revenue of each campaign in certain period.  \n",
    "\n",
    "We'll guide you through obtaining summary statistics to grasp the market campaign overall performance, visualizing daily trends for deeper temporal insights, and identifying the most and least effective marketing campaigns based on these metrics. Whether you're tracking daily performance fluctuations or assessing the impact of marketing strategies, dscigametrics provides the tools you need to make data-driven decisions."
   ]
  },
  {
   "cell_type": "code",
   "execution_count": 1,
   "metadata": {},
   "outputs": [],
   "source": [
    "from dscigametrics.compute_metrics import compute_metrics\n",
    "from dscigametrics.stat_summary import stat_summary\n",
    "from dscigametrics.daily_plot import daily_plot\n",
    "from dscigametrics.find_campaigns import find_campaigns\n",
    "import dscigametrics\n",
    "import pandas as pd"
   ]
  },
  {
   "cell_type": "code",
   "execution_count": 2,
   "metadata": {},
   "outputs": [
    {
     "name": "stdout",
     "output_type": "stream",
     "text": [
      "0.1.0\n"
     ]
    }
   ],
   "source": [
    "print(dscigametrics.__version__)"
   ]
  },
  {
   "cell_type": "markdown",
   "metadata": {},
   "source": [
    "## Load Test Data "
   ]
  },
  {
   "cell_type": "code",
   "execution_count": 3,
   "metadata": {},
   "outputs": [],
   "source": [
    "data_path = '../tests/ga_metrics_test_data.csv'\n",
    "data = pd.read_csv(data_path)"
   ]
  },
  {
   "cell_type": "markdown",
   "metadata": {},
   "source": [
    "## `compute_metrics` - Calculate four key metrics from GA data\n",
    "\n",
    "Google analytics provides a lot of information, so much that it can be dizzying looking at the raw spreadsheet. Fortunately we can start to assess the performance of a marketing campaign using just five columns, shown below."
   ]
  },
  {
   "cell_type": "code",
   "execution_count": 5,
   "metadata": {},
   "outputs": [
    {
     "data": {
      "text/html": [
       "<div>\n",
       "<style scoped>\n",
       "    .dataframe tbody tr th:only-of-type {\n",
       "        vertical-align: middle;\n",
       "    }\n",
       "\n",
       "    .dataframe tbody tr th {\n",
       "        vertical-align: top;\n",
       "    }\n",
       "\n",
       "    .dataframe thead th {\n",
       "        text-align: right;\n",
       "    }\n",
       "</style>\n",
       "<table border=\"1\" class=\"dataframe\">\n",
       "  <thead>\n",
       "    <tr style=\"text-align: right;\">\n",
       "      <th></th>\n",
       "      <th>date</th>\n",
       "      <th>trafficSource.adwordsClickInfo.campaignId</th>\n",
       "      <th>totals.newVisits</th>\n",
       "      <th>totals.transactions</th>\n",
       "      <th>totals.transactionRevenue</th>\n",
       "    </tr>\n",
       "  </thead>\n",
       "  <tbody>\n",
       "    <tr>\n",
       "      <th>0</th>\n",
       "      <td>20220801</td>\n",
       "      <td>219011657</td>\n",
       "      <td>1.0</td>\n",
       "      <td>NaN</td>\n",
       "      <td>NaN</td>\n",
       "    </tr>\n",
       "    <tr>\n",
       "      <th>1</th>\n",
       "      <td>20220802</td>\n",
       "      <td>219011657</td>\n",
       "      <td>NaN</td>\n",
       "      <td>NaN</td>\n",
       "      <td>NaN</td>\n",
       "    </tr>\n",
       "    <tr>\n",
       "      <th>2</th>\n",
       "      <td>20220803</td>\n",
       "      <td>219011657</td>\n",
       "      <td>1.0</td>\n",
       "      <td>NaN</td>\n",
       "      <td>NaN</td>\n",
       "    </tr>\n",
       "    <tr>\n",
       "      <th>3</th>\n",
       "      <td>20220804</td>\n",
       "      <td>219011657</td>\n",
       "      <td>1.0</td>\n",
       "      <td>NaN</td>\n",
       "      <td>NaN</td>\n",
       "    </tr>\n",
       "    <tr>\n",
       "      <th>4</th>\n",
       "      <td>20220805</td>\n",
       "      <td>219011657</td>\n",
       "      <td>1.0</td>\n",
       "      <td>NaN</td>\n",
       "      <td>NaN</td>\n",
       "    </tr>\n",
       "  </tbody>\n",
       "</table>\n",
       "</div>"
      ],
      "text/plain": [
       "       date  trafficSource.adwordsClickInfo.campaignId  totals.newVisits  \\\n",
       "0  20220801                                  219011657               1.0   \n",
       "1  20220802                                  219011657               NaN   \n",
       "2  20220803                                  219011657               1.0   \n",
       "3  20220804                                  219011657               1.0   \n",
       "4  20220805                                  219011657               1.0   \n",
       "\n",
       "   totals.transactions  totals.transactionRevenue  \n",
       "0                  NaN                        NaN  \n",
       "1                  NaN                        NaN  \n",
       "2                  NaN                        NaN  \n",
       "3                  NaN                        NaN  \n",
       "4                  NaN                        NaN  "
      ]
     },
     "execution_count": 5,
     "metadata": {},
     "output_type": "execute_result"
    }
   ],
   "source": [
    "data[['date',\n",
    "'trafficSource.adwordsClickInfo.campaignId',\n",
    "'totals.newVisits',\n",
    "'totals.transactions',\n",
    "'totals.transactionRevenue'\n",
    "]].head()"
   ]
  },
  {
   "cell_type": "markdown",
   "metadata": {},
   "source": [
    "Each row represents an event where someone clicked on an add. The first column is the date of that event, then we have the unique ID of the campaign that the add belonged to, then a column which records whether the visit was from someone new (1.0 means new), then whether a purchase was made (1.0 indicates a purchase), and the last column records the revenue made on that purchase. \n",
    "\n",
    "The function `compute_metrics` uses the first two columns to filter based on your specifications: you are to provide the ID of the campaign that you're interested in, and specify the date range that you want to see data from.\n",
    "\n",
    "`compute_metrics` then uses the last three columns to compute four key metrics:\n",
    "\n",
    "**Conversion rate:** this is the percentage of events where a purchase was made. Note that this is a percentage of the total number of clicks rather than individuals: the same person could click on an add 100 times but only make a purchase following the last one; the conversion rate in this case would be 1%. This tells you how successful the add is in actually selling products.\n",
    "\n",
    "**New to return rate:** this is the percentage of clicks that are made by someone who hasn't clicked on the add before. In the last example, this woud also be 1% because only one of the 200 clicks was from a new person. This gives a sense of both how many individuals are seeing the add and whether they're clicking on the add multiple times.\n",
    "\n",
    "**Total transaction revenue:** this is the total amount of money made from all purchases made after clicking on an add. \n",
    "\n",
    "**Average transaction revenue:** this is the total amount of money made but divided over the total number of times someone purchased something after clicking on an add. These last two metrics give you a sense of whether revenue is coming from a few small purchases or a few large ones.\n",
    "\n",
    "Let's try it out! We'll collect data for the add campaign with id 123851219, starting on the 1st of August 2022, up to *and including* the 31st of August, 2022. Notice below that these dates are encoded as integers in a YYYYMMDD format. "
   ]
  },
  {
   "cell_type": "code",
   "execution_count": 6,
   "metadata": {},
   "outputs": [
    {
     "name": "stdout",
     "output_type": "stream",
     "text": [
      "conversion rate: 0.116 \n",
      "new to return rate: 0.88 \n",
      "total transaction revenue: $14548.0 \n",
      "average transaction revenue: $501.6551724137931\n"
     ]
    }
   ],
   "source": [
    "campaign_id = 123851219\n",
    "start_date = 20220801\n",
    "end_date = 20220831\n",
    "\n",
    "metric_dict = compute_metrics(data, campaign_id, start_date, end_date)"
   ]
  },
  {
   "cell_type": "markdown",
   "metadata": {},
   "source": [
    "It's as easy as that! Take note of a few things here: the function prints out a few lines, but there's no need to copy this down somewhere. If you assign the output of the function to an object like we've done here  with `metric_dict`, the results will be stored there as a dictionary. You can access individual metrics from it like this:"
   ]
  },
  {
   "cell_type": "code",
   "execution_count": 8,
   "metadata": {},
   "outputs": [
    {
     "name": "stdout",
     "output_type": "stream",
     "text": [
      "0.116\n"
     ]
    }
   ],
   "source": [
    "conversion_rate = metric_dict['conversion rate']\n",
    "\n",
    "print(conversion_rate)"
   ]
  },
  {
   "cell_type": "markdown",
   "metadata": {},
   "source": [
    "As a final note, beware that the function does not round its outputs at all. This is to make sure you are in control of precision in case this matters for subsequent calculations, but it also means you'll probably want to round off the results before presenting them elsewhere."
   ]
  },
  {
   "cell_type": "code",
   "execution_count": 9,
   "metadata": {},
   "outputs": [
    {
     "data": {
      "text/plain": [
       "501.66"
      ]
     },
     "execution_count": 9,
     "metadata": {},
     "output_type": "execute_result"
    }
   ],
   "source": [
    "metric_dict['average transaction revenue'].round(2)"
   ]
  },
  {
   "cell_type": "markdown",
   "metadata": {},
   "source": [
    "## `stat_summary` - Return Statistic Summary of Specified Campaign\n",
    "#### Function Description: \n",
    "The function `stat_summary` will return the statistic summary of specified campaign that user assign by the campaign ID and the dates.\n",
    "#### Steps:\n",
    "- Input a specific campaign ID and the dates to the function\n",
    "- The function automatically calculate mean, median and standard deviation from the data points, which are the values of the 4 metrics grouped by date.\n",
    "- The output will be a pandas Dataframe with index are the mean, median and standard deviation, and the columns are the 4 metrics.\n",
    "#### Notes:\n",
    "- The 4 metrics are identical as above."
   ]
  },
  {
   "cell_type": "code",
   "execution_count": 6,
   "metadata": {},
   "outputs": [],
   "source": [
    "# Assign the campaign ID and dates.\n",
    "campaign_id = 219011657  # campaign ID's data type should be int\n",
    "start_date = 20220810  # the start date of the specified campaign, the data type should be int\n",
    "end_date = 20220811  # the end date of the specified campaign, the data type should be int"
   ]
  },
  {
   "cell_type": "code",
   "execution_count": 7,
   "metadata": {},
   "outputs": [
    {
     "data": {
      "text/html": [
       "<div>\n",
       "<style scoped>\n",
       "    .dataframe tbody tr th:only-of-type {\n",
       "        vertical-align: middle;\n",
       "    }\n",
       "\n",
       "    .dataframe tbody tr th {\n",
       "        vertical-align: top;\n",
       "    }\n",
       "\n",
       "    .dataframe thead th {\n",
       "        text-align: right;\n",
       "    }\n",
       "</style>\n",
       "<table border=\"1\" class=\"dataframe\">\n",
       "  <thead>\n",
       "    <tr style=\"text-align: right;\">\n",
       "      <th></th>\n",
       "      <th>return_rate</th>\n",
       "      <th>conversion_rate</th>\n",
       "      <th>ttl_revenue</th>\n",
       "      <th>avg_revenue</th>\n",
       "    </tr>\n",
       "  </thead>\n",
       "  <tbody>\n",
       "    <tr>\n",
       "      <th>Mean</th>\n",
       "      <td>0.85</td>\n",
       "      <td>0.05</td>\n",
       "      <td>389.5</td>\n",
       "      <td>38.95</td>\n",
       "    </tr>\n",
       "    <tr>\n",
       "      <th>Median</th>\n",
       "      <td>0.85</td>\n",
       "      <td>0.05</td>\n",
       "      <td>389.5</td>\n",
       "      <td>38.95</td>\n",
       "    </tr>\n",
       "    <tr>\n",
       "      <th>Standard Deviation</th>\n",
       "      <td>0.05</td>\n",
       "      <td>0.05</td>\n",
       "      <td>389.5</td>\n",
       "      <td>38.95</td>\n",
       "    </tr>\n",
       "  </tbody>\n",
       "</table>\n",
       "</div>"
      ],
      "text/plain": [
       "                    return_rate  conversion_rate  ttl_revenue  avg_revenue\n",
       "Mean                       0.85             0.05        389.5        38.95\n",
       "Median                     0.85             0.05        389.5        38.95\n",
       "Standard Deviation         0.05             0.05        389.5        38.95"
      ]
     },
     "execution_count": 7,
     "metadata": {},
     "output_type": "execute_result"
    }
   ],
   "source": [
    "# Call the function with the info above as the input arguments.\n",
    "summary = stat_summary(data, campaign_id, start_date, end_date)\n",
    "summary"
   ]
  },
  {
   "cell_type": "markdown",
   "metadata": {},
   "source": [
    "## `daily_plot()` - Visualises performance changes of campaign based on four metrics.\n",
    "#### Function Description:\n",
    "The `daily_plot` function is designed to plot a time series chart to show campaign performance over a specified period using data from Google Analytics. By defining the time period and campaign ID, users can view the performance of the campaign during a period from four perspectives. The `daily_plot` function is built upon [Altair](https://altair-viz.github.io/index.html).\n",
    "\n",
    "#### Steps:  \n",
    "- Define the analysis period (in original Google Analytics raw data format),  \n",
    "- Prepare the campaign ID to analyze (in int format).  \n",
    "- Call function to show the time series plot of each of four metrics."
   ]
  },
  {
   "cell_type": "code",
   "execution_count": 4,
   "metadata": {},
   "outputs": [],
   "source": [
    "campaign_id = 219011657  # Data type of campaign ID should be int\n",
    "start_date = 20220801  # Start date of the specified campaign, the data type should be int\n",
    "end_date = 20220821  # End date of the specified campaign, the data type should be int"
   ]
  },
  {
   "cell_type": "markdown",
   "metadata": {},
   "source": [
    "After defining all the mandatory variables, user can call the function with default values of optional variables, `width=600` and `height=1000` that specified the size of chart. User can also specify values of these two optional variables. Please note the chart show below containing four charts so `width` and `height` specified in the function are the size of grand chart, thus please make sure the values specified in the function are suitable to accomodate four charts."
   ]
  },
  {
   "cell_type": "code",
   "execution_count": 8,
   "metadata": {},
   "outputs": [
    {
     "data": {
      "text/html": [
       "\n",
       "<style>\n",
       "  #altair-viz-f59b92fcc4544798993dfdeb4261b0fc.vega-embed {\n",
       "    width: 100%;\n",
       "    display: flex;\n",
       "  }\n",
       "\n",
       "  #altair-viz-f59b92fcc4544798993dfdeb4261b0fc.vega-embed details,\n",
       "  #altair-viz-f59b92fcc4544798993dfdeb4261b0fc.vega-embed details summary {\n",
       "    position: relative;\n",
       "  }\n",
       "</style>\n",
       "<div id=\"altair-viz-f59b92fcc4544798993dfdeb4261b0fc\"></div>\n",
       "<script type=\"text/javascript\">\n",
       "  var VEGA_DEBUG = (typeof VEGA_DEBUG == \"undefined\") ? {} : VEGA_DEBUG;\n",
       "  (function(spec, embedOpt){\n",
       "    let outputDiv = document.currentScript.previousElementSibling;\n",
       "    if (outputDiv.id !== \"altair-viz-f59b92fcc4544798993dfdeb4261b0fc\") {\n",
       "      outputDiv = document.getElementById(\"altair-viz-f59b92fcc4544798993dfdeb4261b0fc\");\n",
       "    }\n",
       "    const paths = {\n",
       "      \"vega\": \"https://cdn.jsdelivr.net/npm/vega@5?noext\",\n",
       "      \"vega-lib\": \"https://cdn.jsdelivr.net/npm/vega-lib?noext\",\n",
       "      \"vega-lite\": \"https://cdn.jsdelivr.net/npm/vega-lite@5.16.3?noext\",\n",
       "      \"vega-embed\": \"https://cdn.jsdelivr.net/npm/vega-embed@6?noext\",\n",
       "    };\n",
       "\n",
       "    function maybeLoadScript(lib, version) {\n",
       "      var key = `${lib.replace(\"-\", \"\")}_version`;\n",
       "      return (VEGA_DEBUG[key] == version) ?\n",
       "        Promise.resolve(paths[lib]) :\n",
       "        new Promise(function(resolve, reject) {\n",
       "          var s = document.createElement('script');\n",
       "          document.getElementsByTagName(\"head\")[0].appendChild(s);\n",
       "          s.async = true;\n",
       "          s.onload = () => {\n",
       "            VEGA_DEBUG[key] = version;\n",
       "            return resolve(paths[lib]);\n",
       "          };\n",
       "          s.onerror = () => reject(`Error loading script: ${paths[lib]}`);\n",
       "          s.src = paths[lib];\n",
       "        });\n",
       "    }\n",
       "\n",
       "    function showError(err) {\n",
       "      outputDiv.innerHTML = `<div class=\"error\" style=\"color:red;\">${err}</div>`;\n",
       "      throw err;\n",
       "    }\n",
       "\n",
       "    function displayChart(vegaEmbed) {\n",
       "      vegaEmbed(outputDiv, spec, embedOpt)\n",
       "        .catch(err => showError(`Javascript Error: ${err.message}<br>This usually means there's a typo in your chart specification. See the javascript console for the full traceback.`));\n",
       "    }\n",
       "\n",
       "    if(typeof define === \"function\" && define.amd) {\n",
       "      requirejs.config({paths});\n",
       "      require([\"vega-embed\"], displayChart, err => showError(`Error loading script: ${err.message}`));\n",
       "    } else {\n",
       "      maybeLoadScript(\"vega\", \"5\")\n",
       "        .then(() => maybeLoadScript(\"vega-lite\", \"5.16.3\"))\n",
       "        .then(() => maybeLoadScript(\"vega-embed\", \"6\"))\n",
       "        .catch(showError)\n",
       "        .then(() => displayChart(vegaEmbed));\n",
       "    }\n",
       "  })({\"config\": {\"view\": {\"continuousWidth\": 300, \"continuousHeight\": 300}}, \"vconcat\": [{\"mark\": {\"type\": \"line\"}, \"encoding\": {\"x\": {\"field\": \"date\", \"type\": \"temporal\"}, \"y\": {\"field\": \"return_rates\", \"title\": \"Return Rate\", \"type\": \"quantitative\"}}, \"height\": 200, \"title\": \"Return Rates by date\", \"width\": 800}, {\"mark\": {\"type\": \"line\"}, \"encoding\": {\"x\": {\"field\": \"date\", \"type\": \"temporal\"}, \"y\": {\"field\": \"conversion_rates\", \"title\": \"Conversion Rate\", \"type\": \"quantitative\"}}, \"height\": 200, \"title\": \"Conversion Rates\", \"width\": 800}, {\"mark\": {\"type\": \"line\"}, \"encoding\": {\"x\": {\"field\": \"date\", \"type\": \"temporal\"}, \"y\": {\"field\": \"ttl_transac_revenues\", \"title\": \"Total Transaction Revenue\", \"type\": \"quantitative\"}}, \"height\": 200, \"title\": \"Total Transaction Revenue by date(CAD)\", \"width\": 800}, {\"mark\": {\"type\": \"line\"}, \"encoding\": {\"x\": {\"field\": \"date\", \"type\": \"temporal\"}, \"y\": {\"field\": \"avg_transac_revenues\", \"title\": \"Average Transaction Revenue\", \"type\": \"quantitative\"}}, \"height\": 200, \"title\": \"Average Transaction Revenue by date(CAD)\", \"width\": 800}], \"data\": {\"name\": \"data-ef1c7a098c742a1c8c00c06c9588566a\"}, \"$schema\": \"https://vega.github.io/schema/vega-lite/v5.16.3.json\", \"datasets\": {\"data-ef1c7a098c742a1c8c00c06c9588566a\": [{\"date\": \"2022-08-01T00:00:00\", \"return_rates\": 0.9, \"conversion_rates\": 0.0, \"ttl_transac_revenues\": 0.0, \"avg_transac_revenues\": 0.0}, {\"date\": \"2022-08-02T00:00:00\", \"return_rates\": 0.9, \"conversion_rates\": 0.2, \"ttl_transac_revenues\": 403.0, \"avg_transac_revenues\": 40.3}, {\"date\": \"2022-08-03T00:00:00\", \"return_rates\": 1.0, \"conversion_rates\": 0.1, \"ttl_transac_revenues\": 492.0, \"avg_transac_revenues\": 49.2}, {\"date\": \"2022-08-04T00:00:00\", \"return_rates\": 0.7, \"conversion_rates\": 0.0, \"ttl_transac_revenues\": 0.0, \"avg_transac_revenues\": 0.0}, {\"date\": \"2022-08-05T00:00:00\", \"return_rates\": 0.9, \"conversion_rates\": 0.0, \"ttl_transac_revenues\": 0.0, \"avg_transac_revenues\": 0.0}, {\"date\": \"2022-08-06T00:00:00\", \"return_rates\": 0.9, \"conversion_rates\": 0.0, \"ttl_transac_revenues\": 0.0, \"avg_transac_revenues\": 0.0}, {\"date\": \"2022-08-07T00:00:00\", \"return_rates\": 0.9, \"conversion_rates\": 0.0, \"ttl_transac_revenues\": 0.0, \"avg_transac_revenues\": 0.0}, {\"date\": \"2022-08-08T00:00:00\", \"return_rates\": 0.9, \"conversion_rates\": 0.1, \"ttl_transac_revenues\": 561.0, \"avg_transac_revenues\": 56.1}, {\"date\": \"2022-08-09T00:00:00\", \"return_rates\": 0.8, \"conversion_rates\": 0.0, \"ttl_transac_revenues\": 0.0, \"avg_transac_revenues\": 0.0}, {\"date\": \"2022-08-10T00:00:00\", \"return_rates\": 0.9, \"conversion_rates\": 0.0, \"ttl_transac_revenues\": 0.0, \"avg_transac_revenues\": 0.0}, {\"date\": \"2022-08-11T00:00:00\", \"return_rates\": 0.8, \"conversion_rates\": 0.1, \"ttl_transac_revenues\": 779.0, \"avg_transac_revenues\": 77.9}, {\"date\": \"2022-08-12T00:00:00\", \"return_rates\": 0.7, \"conversion_rates\": 0.1, \"ttl_transac_revenues\": 904.0, \"avg_transac_revenues\": 90.4}, {\"date\": \"2022-08-13T00:00:00\", \"return_rates\": 1.0, \"conversion_rates\": 0.1, \"ttl_transac_revenues\": 374.0, \"avg_transac_revenues\": 37.4}, {\"date\": \"2022-08-14T00:00:00\", \"return_rates\": 0.8, \"conversion_rates\": 0.0, \"ttl_transac_revenues\": 0.0, \"avg_transac_revenues\": 0.0}, {\"date\": \"2022-08-15T00:00:00\", \"return_rates\": 0.6, \"conversion_rates\": 0.1, \"ttl_transac_revenues\": 89.0, \"avg_transac_revenues\": 8.9}, {\"date\": \"2022-08-16T00:00:00\", \"return_rates\": 0.9, \"conversion_rates\": 0.1, \"ttl_transac_revenues\": 301.0, \"avg_transac_revenues\": 30.1}, {\"date\": \"2022-08-17T00:00:00\", \"return_rates\": 0.9, \"conversion_rates\": 0.1, \"ttl_transac_revenues\": 608.0, \"avg_transac_revenues\": 60.8}, {\"date\": \"2022-08-18T00:00:00\", \"return_rates\": 0.8, \"conversion_rates\": 0.0, \"ttl_transac_revenues\": 0.0, \"avg_transac_revenues\": 0.0}, {\"date\": \"2022-08-19T00:00:00\", \"return_rates\": 0.4, \"conversion_rates\": 0.0, \"ttl_transac_revenues\": 0.0, \"avg_transac_revenues\": 0.0}, {\"date\": \"2022-08-20T00:00:00\", \"return_rates\": 0.9, \"conversion_rates\": 0.0, \"ttl_transac_revenues\": 0.0, \"avg_transac_revenues\": 0.0}, {\"date\": \"2022-08-21T00:00:00\", \"return_rates\": 0.8, \"conversion_rates\": 0.1, \"ttl_transac_revenues\": 547.0, \"avg_transac_revenues\": 54.7}]}}, {\"mode\": \"vega-lite\"});\n",
       "</script>"
      ],
      "text/plain": [
       "alt.VConcatChart(...)"
      ]
     },
     "execution_count": 8,
     "metadata": {},
     "output_type": "execute_result"
    }
   ],
   "source": [
    "plot = daily_plot(data, campaign_id, start_date, end_date, width=300, height=800)\n",
    "plot"
   ]
  },
  {
   "cell_type": "markdown",
   "metadata": {},
   "source": [
    "The chart above shows the performance over time by displaying four metrics in four chart separately. The x-axes of all charts are date, which is fixed aggregation level, and the y-axes are four metrics. If there's no transaction in the day, then the value of Conversion rate, Total transaction rate and Average Transaction Revenue will be zero."
   ]
  },
  {
   "cell_type": "markdown",
   "metadata": {},
   "source": [
    "##  `find_campaigns` - Analyze Marketing Campaign Performance\n",
    "#### Function Description:\n",
    "The `find_campaigns` function is part of a toolkit designed to analyze marketing campaign performance over a specified period using data from Google Analytics. By inputting a dataframe containing campaign information, alongside the desired date range and metrics, users can swiftly identify the most and least effective campaigns. It will return a dictionary for further use\n",
    "\n",
    "#### Steps:\n",
    "- Define the analysis period (in int or Timestamp data format)\n",
    "- Prepare the list of campaign IDs to analyze (in int format)\n",
    "- Decide the metric to evaluate campaign performance (in str format)\n",
    "- Call function to find the best and worst campaigns based on the conversion rate"
   ]
  },
  {
   "cell_type": "code",
   "execution_count": 8,
   "metadata": {},
   "outputs": [],
   "source": [
    "\n",
    "# Define the analysis period\n",
    "start_date = 20220801 \n",
    "end_date = 20220825   \n",
    "\n",
    "campaign_ids = [219011657, 140569061, 215934049, 123851219]\n",
    "\n",
    "# Metric to evaluate campaign performance\n",
    "metric = 'conversion_rate'\n",
    "\n",
    "# Find the best and worst campaigns based on the conversion rate\n",
    "output_dict = find_campaigns(\n",
    "    data=data,\n",
    "    start_date=start_date,\n",
    "    end_date=end_date,\n",
    "    campaign_ids=campaign_ids,\n",
    "    metric=metric\n",
    ")\n",
    "\n"
   ]
  },
  {
   "cell_type": "code",
   "execution_count": 9,
   "metadata": {},
   "outputs": [
    {
     "name": "stdout",
     "output_type": "stream",
     "text": [
      "{'best_campaign': {'id': 123851219, 'value': 0.116}, 'worst_campaign': {'id': 219011657, 'value': 0.056}}\n"
     ]
    }
   ],
   "source": [
    "print(output_dict)"
   ]
  },
  {
   "cell_type": "code",
   "execution_count": 10,
   "metadata": {},
   "outputs": [
    {
     "name": "stdout",
     "output_type": "stream",
     "text": [
      "Best Campaign: ID 123851219 with a conversion_rate of 0.116\n",
      "Worst Campaign: ID 219011657 with a conversion_rate of 0.056\n"
     ]
    }
   ],
   "source": [
    "\n",
    "print(f\"Best Campaign: ID {output_dict['best_campaign']['id']} with a {metric} of {output_dict['best_campaign']['value']}\")\n",
    "print(f\"Worst Campaign: ID {output_dict['worst_campaign']['id']} with a {metric} of {output_dict['worst_campaign']['value']}\")\n"
   ]
  },
  {
   "cell_type": "markdown",
   "metadata": {},
   "source": [
    "This is the end of this tutorial where you have seen application of four functions of `dscigametrics` package. If you want to build another function using Google Analytics data or suggest change to current functions, please take a look at the [contributor guide](contributing.md)"
   ]
  },
  {
   "cell_type": "markdown",
   "metadata": {},
   "source": []
  }
 ],
 "metadata": {
  "kernelspec": {
   "display_name": "ga_package",
   "language": "python",
   "name": "python3"
  },
  "language_info": {
   "codemirror_mode": {
    "name": "ipython",
    "version": 3
   },
   "file_extension": ".py",
   "mimetype": "text/x-python",
   "name": "python",
   "nbconvert_exporter": "python",
   "pygments_lexer": "ipython3",
   "version": "3.9.18"
  }
 },
 "nbformat": 4,
 "nbformat_minor": 4
}
