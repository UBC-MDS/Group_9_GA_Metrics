{
 "cells": [
  {
   "cell_type": "markdown",
   "metadata": {},
   "source": [
    "# Example usage\n",
    "## Overview\n",
    "Here we will illustrate the use of the dscigametrics package to compute and analyze four key metrics within a specified time frame:\n",
    "- Ratio of new to returning visitors: measures the ratio of new users to returning users of each campaign in certain period.\n",
    "- Conversion rate: measures the percentage of users who complete a specific desired action of each campaign in certain period.\n",
    "- Total transaction revenue: measures total transaction revenue of each campaign in certain period.\n",
    "- Average transaction revenue: measures average transaction revenue of each campaign in certain period.  \n",
    "\n",
    "We'll guide you through obtaining summary statistics to grasp the market campaign overall performance, visualizing daily trends for deeper temporal insights, and identifying the most and least effective marketing campaigns based on these metrics. Whether you're tracking daily performance fluctuations or assessing the impact of marketing strategies, dscigametrics provides the tools you need to make data-driven decisions."
   ]
  },
  {
   "cell_type": "code",
   "execution_count": 3,
   "metadata": {},
   "outputs": [],
   "source": [
    "from dscigametrics.compute_metrics import compute_metrics\n",
    "from dscigametrics.stat_summary import stat_summary\n",
    "from dscigametrics.daily_plot import daily_plot\n",
    "from dscigametrics.find_campaigns import find_campaigns\n",
    "import dscigametrics\n",
    "import pandas as pd"
   ]
  },
  {
   "cell_type": "code",
   "execution_count": 4,
   "metadata": {},
   "outputs": [
    {
     "name": "stdout",
     "output_type": "stream",
     "text": [
      "0.1.0\n"
     ]
    }
   ],
   "source": [
    "print(dscigametrics.__version__)"
   ]
  },
  {
   "cell_type": "markdown",
   "metadata": {},
   "source": [
    "## Load Test Data "
   ]
  },
  {
   "cell_type": "code",
   "execution_count": 5,
   "metadata": {},
   "outputs": [],
   "source": [
    "data_path = '../tests/ga_metrics_test_data.csv'\n",
    "data = pd.read_csv(data_path)"
   ]
  },
  {
   "cell_type": "markdown",
   "metadata": {},
   "source": [
    "## Example of `stat_summary`  \n",
    "#### Function Description: \n",
    "The function `stat_summary` will return the statistic summary of specified campaign that user assign by the campaign ID and the dates.\n",
    "#### Steps:\n",
    "- Input a specific campaign ID and the dates to the function\n",
    "- The function automatically calculate mean, median and standard deviation from the data points, which are the values of the 4 metrics grouped by date.\n",
    "- The output will be a pandas Dataframe with index are the mean, median and standard deviation, and the columns are the 4 metrics.\n",
    "#### Notes:\n",
    "- The 4 metrics are identical as above."
   ]
  },
  {
   "cell_type": "code",
   "execution_count": 6,
   "metadata": {},
   "outputs": [],
   "source": [
    "# Assign the campaign ID and dates.\n",
    "campaign_id = 219011657  # campaign ID's data type should be int\n",
    "start_date = 20220810  # the start date of the specified campaign, the data type should be int\n",
    "end_date = 20220811  # the end date of the specified campaign, the data type should be int"
   ]
  },
  {
   "cell_type": "code",
   "execution_count": 7,
   "metadata": {},
   "outputs": [
    {
     "data": {
      "text/html": [
       "<div>\n",
       "<style scoped>\n",
       "    .dataframe tbody tr th:only-of-type {\n",
       "        vertical-align: middle;\n",
       "    }\n",
       "\n",
       "    .dataframe tbody tr th {\n",
       "        vertical-align: top;\n",
       "    }\n",
       "\n",
       "    .dataframe thead th {\n",
       "        text-align: right;\n",
       "    }\n",
       "</style>\n",
       "<table border=\"1\" class=\"dataframe\">\n",
       "  <thead>\n",
       "    <tr style=\"text-align: right;\">\n",
       "      <th></th>\n",
       "      <th>return_rate</th>\n",
       "      <th>conversion_rate</th>\n",
       "      <th>ttl_revenue</th>\n",
       "      <th>avg_revenue</th>\n",
       "    </tr>\n",
       "  </thead>\n",
       "  <tbody>\n",
       "    <tr>\n",
       "      <th>Mean</th>\n",
       "      <td>0.85</td>\n",
       "      <td>0.05</td>\n",
       "      <td>389.5</td>\n",
       "      <td>38.95</td>\n",
       "    </tr>\n",
       "    <tr>\n",
       "      <th>Median</th>\n",
       "      <td>0.85</td>\n",
       "      <td>0.05</td>\n",
       "      <td>389.5</td>\n",
       "      <td>38.95</td>\n",
       "    </tr>\n",
       "    <tr>\n",
       "      <th>Standard Deviation</th>\n",
       "      <td>0.05</td>\n",
       "      <td>0.05</td>\n",
       "      <td>389.5</td>\n",
       "      <td>38.95</td>\n",
       "    </tr>\n",
       "  </tbody>\n",
       "</table>\n",
       "</div>"
      ],
      "text/plain": [
       "                    return_rate  conversion_rate  ttl_revenue  avg_revenue\n",
       "Mean                       0.85             0.05        389.5        38.95\n",
       "Median                     0.85             0.05        389.5        38.95\n",
       "Standard Deviation         0.05             0.05        389.5        38.95"
      ]
     },
     "execution_count": 7,
     "metadata": {},
     "output_type": "execute_result"
    }
   ],
   "source": [
    "# Call the function with the info above as the input arguments.\n",
    "summary = stat_summary(data, campaign_id, start_date, end_date)\n",
    "summary"
   ]
  },
  {
   "cell_type": "markdown",
   "metadata": {},
   "source": [
    "## Example of `find_campaigns` \n",
    "#### Function Description:\n",
    "The `find_campaigns` function is part of a toolkit designed to analyze marketing campaign performance over a specified period using data from Google Analytics. By inputting a dataframe containing campaign information, alongside the desired date range and metrics, users can swiftly identify the most and least effective campaigns. It will return a dictionary for further use\n",
    "\n",
    "#### Steps:\n",
    "- Define the analysis period (in int or Timestamp data format)\n",
    "- Prepare the list of campaign IDs to analyze (in int format)\n",
    "- Decide the metric to evaluate campaign performance (in str format)\n",
    "- Call function to find the best and worst campaigns based on the conversion rate"
   ]
  },
  {
   "cell_type": "code",
   "execution_count": 8,
   "metadata": {},
   "outputs": [],
   "source": [
    "\n",
    "# Define the analysis period\n",
    "start_date = 20220801 \n",
    "end_date = 20220825   \n",
    "\n",
    "campaign_ids = [219011657, 140569061, 215934049, 123851219]\n",
    "\n",
    "# Metric to evaluate campaign performance\n",
    "metric = 'conversion_rate'\n",
    "\n",
    "# Find the best and worst campaigns based on the conversion rate\n",
    "output_dict = find_campaigns(\n",
    "    data=data,\n",
    "    start_date=start_date,\n",
    "    end_date=end_date,\n",
    "    campaign_ids=campaign_ids,\n",
    "    metric=metric\n",
    ")\n",
    "\n"
   ]
  },
  {
   "cell_type": "code",
   "execution_count": 9,
   "metadata": {},
   "outputs": [
    {
     "name": "stdout",
     "output_type": "stream",
     "text": [
      "{'best_campaign': {'id': 123851219, 'value': 0.116}, 'worst_campaign': {'id': 219011657, 'value': 0.056}}\n"
     ]
    }
   ],
   "source": [
    "print(output_dict)"
   ]
  },
  {
   "cell_type": "code",
   "execution_count": 10,
   "metadata": {},
   "outputs": [
    {
     "name": "stdout",
     "output_type": "stream",
     "text": [
      "Best Campaign: ID 123851219 with a conversion_rate of 0.116\n",
      "Worst Campaign: ID 219011657 with a conversion_rate of 0.056\n"
     ]
    }
   ],
   "source": [
    "\n",
    "print(f\"Best Campaign: ID {output_dict['best_campaign']['id']} with a {metric} of {output_dict['best_campaign']['value']}\")\n",
    "print(f\"Worst Campaign: ID {output_dict['worst_campaign']['id']} with a {metric} of {output_dict['worst_campaign']['value']}\")\n"
   ]
  },
  {
   "cell_type": "code",
   "execution_count": null,
   "metadata": {},
   "outputs": [],
   "source": []
  },
  {
   "cell_type": "code",
   "execution_count": null,
   "metadata": {},
   "outputs": [],
   "source": []
  }
 ],
 "metadata": {
  "kernelspec": {
   "display_name": "ga_package",
   "language": "python",
   "name": "python3"
  },
  "language_info": {
   "codemirror_mode": {
    "name": "ipython",
    "version": 3
   },
   "file_extension": ".py",
   "mimetype": "text/x-python",
   "name": "python",
   "nbconvert_exporter": "python",
   "pygments_lexer": "ipython3",
   "version": "3.9.18"
  }
 },
 "nbformat": 4,
 "nbformat_minor": 4
}
