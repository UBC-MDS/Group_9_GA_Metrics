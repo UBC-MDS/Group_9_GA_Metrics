{
    "cells": [
        {
            "cell_type": "code",
            "execution_count": 17,
            "metadata": {},
            "outputs": [],
            "source": [
                "from dscigametrics.compute_metrics import compute_metrics\n",
                "import pandas as pd"
            ]
        },
        {
            "cell_type": "code",
            "execution_count": 18,
            "metadata": {},
            "outputs": [],
            "source": [
                "data = pd.read_csv('../tests/ga_metrics_test_data.csv')"
            ]
        },
        {
            "cell_type": "markdown",
            "metadata": {},
            "source": [
                "### `compute_metrics` - Calculate four key metrics from GA data\n",
                "\n",
                "Google analytics provides a lot of information, so much that it can be dizzying looking at the raw spreadsheet. Fortunately we can start to assess the performance of a marketing campaign using just five columns, shown below."
            ]
        },
        {
            "cell_type": "code",
            "execution_count": 19,
            "metadata": {},
            "outputs": [
                {
                    "data": {
                        "text/html": [
                            "<div>\n",
                            "<style scoped>\n",
                            "    .dataframe tbody tr th:only-of-type {\n",
                            "        vertical-align: middle;\n",
                            "    }\n",
                            "\n",
                            "    .dataframe tbody tr th {\n",
                            "        vertical-align: top;\n",
                            "    }\n",
                            "\n",
                            "    .dataframe thead th {\n",
                            "        text-align: right;\n",
                            "    }\n",
                            "</style>\n",
                            "<table border=\"1\" class=\"dataframe\">\n",
                            "  <thead>\n",
                            "    <tr style=\"text-align: right;\">\n",
                            "      <th></th>\n",
                            "      <th>date</th>\n",
                            "      <th>trafficSource.adwordsClickInfo.campaignId</th>\n",
                            "      <th>totals.newVisits</th>\n",
                            "      <th>totals.transactions</th>\n",
                            "      <th>totals.transactionRevenue</th>\n",
                            "    </tr>\n",
                            "  </thead>\n",
                            "  <tbody>\n",
                            "    <tr>\n",
                            "      <th>0</th>\n",
                            "      <td>20220801</td>\n",
                            "      <td>219011657</td>\n",
                            "      <td>1.0</td>\n",
                            "      <td>NaN</td>\n",
                            "      <td>NaN</td>\n",
                            "    </tr>\n",
                            "    <tr>\n",
                            "      <th>1</th>\n",
                            "      <td>20220802</td>\n",
                            "      <td>219011657</td>\n",
                            "      <td>NaN</td>\n",
                            "      <td>NaN</td>\n",
                            "      <td>NaN</td>\n",
                            "    </tr>\n",
                            "    <tr>\n",
                            "      <th>2</th>\n",
                            "      <td>20220803</td>\n",
                            "      <td>219011657</td>\n",
                            "      <td>1.0</td>\n",
                            "      <td>NaN</td>\n",
                            "      <td>NaN</td>\n",
                            "    </tr>\n",
                            "    <tr>\n",
                            "      <th>3</th>\n",
                            "      <td>20220804</td>\n",
                            "      <td>219011657</td>\n",
                            "      <td>1.0</td>\n",
                            "      <td>NaN</td>\n",
                            "      <td>NaN</td>\n",
                            "    </tr>\n",
                            "    <tr>\n",
                            "      <th>4</th>\n",
                            "      <td>20220805</td>\n",
                            "      <td>219011657</td>\n",
                            "      <td>1.0</td>\n",
                            "      <td>NaN</td>\n",
                            "      <td>NaN</td>\n",
                            "    </tr>\n",
                            "  </tbody>\n",
                            "</table>\n",
                            "</div>"
                        ],
                        "text/plain": [
                            "       date  trafficSource.adwordsClickInfo.campaignId  totals.newVisits  \\\n",
                            "0  20220801                                  219011657               1.0   \n",
                            "1  20220802                                  219011657               NaN   \n",
                            "2  20220803                                  219011657               1.0   \n",
                            "3  20220804                                  219011657               1.0   \n",
                            "4  20220805                                  219011657               1.0   \n",
                            "\n",
                            "   totals.transactions  totals.transactionRevenue  \n",
                            "0                  NaN                        NaN  \n",
                            "1                  NaN                        NaN  \n",
                            "2                  NaN                        NaN  \n",
                            "3                  NaN                        NaN  \n",
                            "4                  NaN                        NaN  "
                        ]
                    },
                    "execution_count": 19,
                    "metadata": {},
                    "output_type": "execute_result"
                }
            ],
            "source": [
                "data[['date',\n",
                "'trafficSource.adwordsClickInfo.campaignId',\n",
                "'totals.newVisits',\n",
                "'totals.transactions',\n",
                "'totals.transactionRevenue'\n",
                "]].head()"
            ]
        },
        {
            "cell_type": "markdown",
            "metadata": {},
            "source": [
                "Each row represents an event where someone clicked on an add. The first column is the date of that event, then we have the unique ID of the campaign that the add belonged to, then a column which records whether the visit was from someone new (1.0 means new), then whether a purchase was made (1.0 indicates a purchase), and the last column records the revenue made on that purchase. \n",
                "\n",
                "The function `compute_metrics` uses the first two columns to filter based on your specifications: you are to provide the ID of the campaign that you're interested in, and specify the date range that you want to see data from.\n",
                "\n",
                "`compute_metrics` then uses the last three columns to compute four key metrics:\n",
                "\n",
                "**Conversion rate:** this is the percentage of events where a purchase was made. Note that this is a percentage of the total number of clicks rather than individuals: the same person could click on an add 100 times but only make a purchase following the last one; the conversion rate in this case would be 1%. This tells you how successful the add is in actually selling products.\n",
                "\n",
                "**New to return rate:** this is the percentage of clicks that are made by someone who hasn't clicked on the add before. In the last example, this woud also be 1% because only one of the 200 clicks was from a new person. This gives a sense of both how many individuals are seeing the add and whether they're clicking on the add multiple times.\n",
                "\n",
                "**Total transaction revenue:** this is the total amount of money made from all purchases made after clicking on an add. \n",
                "\n",
                "**Average transaction revenue:** this is the total amount of money made but divided over the total number of times someone purchased something after clicking on an add. These last two metrics give you a sense of whether revenue is coming from a few small purchases or a few large ones.\n",
                "\n",
                "Let's try it out! We'll collect data for the add campaign with id 123851219, starting on the 1st of August 2022, up to *and including* the 31st of August, 2022."
            ]
        },
        {
            "cell_type": "code",
            "execution_count": 20,
            "metadata": {},
            "outputs": [
                {
                    "name": "stdout",
                    "output_type": "stream",
                    "text": [
                        "conversion rate: 0.116 \n",
                        "new to return rate: 0.88 \n",
                        "total transaction revenue: $14548.0 \n",
                        "average transaction revenue: $501.6551724137931\n"
                    ]
                }
            ],
            "source": [
                "metric_dict = compute_metrics(data, 123851219, 20220801, 20220831)"
            ]
        },
        {
            "cell_type": "markdown",
            "metadata": {},
            "source": [
                "It's as easy as that! Take note of a few things here: the function prints out a few lines, but there's no need to copy this down somewhere. If you assign the output of the function to an object like we've done here  with `metric_dict`, the results will be stored there as a dictionary. You can access individual metrics from it like this:"
            ]
        },
        {
            "cell_type": "code",
            "execution_count": 21,
            "metadata": {},
            "outputs": [
                {
                    "name": "stdout",
                    "output_type": "stream",
                    "text": [
                        "0.116\n"
                    ]
                }
            ],
            "source": [
                "conversion_rate = metric_dict['conversion rate']\n",
                "\n",
                "print(conversion_rate)"
            ]
        },
        {
            "cell_type": "markdown",
            "metadata": {},
            "source": [
                "Also notice that the function does not round its outputs at all. This is to make sure you are in control of precision in case this matters for subsequent calculations, but it also means you'll probably want to round off the results before presenting them elsewhere."
            ]
        },
        {
            "cell_type": "code",
            "execution_count": 22,
            "metadata": {},
            "outputs": [
                {
                    "data": {
                        "text/plain": [
                            "501.66"
                        ]
                    },
                    "execution_count": 22,
                    "metadata": {},
                    "output_type": "execute_result"
                }
            ],
            "source": [
                "metric_dict['average transaction revenue'].round(2)"
            ]
        }
    ],
    "metadata": {
        "kernelspec": {
            "display_name": "Python 3",
            "language": "python",
            "name": "python3"
        },
        "language_info": {
            "codemirror_mode": {
                "name": "ipython",
                "version": 3
            },
            "file_extension": ".py",
            "mimetype": "text/x-python",
            "name": "python",
            "nbconvert_exporter": "python",
            "pygments_lexer": "ipython3",
            "version": "3.9.18"
        }
    },
    "nbformat": 4,
    "nbformat_minor": 4
}
