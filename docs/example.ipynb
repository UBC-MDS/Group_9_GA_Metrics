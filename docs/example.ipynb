{
 "cells": [
  {
   "cell_type": "markdown",
   "metadata": {},
   "source": [
    "# Import Packages"
   ]
  },
  {
   "cell_type": "code",
   "execution_count": 3,
   "metadata": {},
   "outputs": [],
   "source": [
    "from dscigametrics.compute_metrics import compute_metrics\n",
    "from dscigametrics.stat_summary import stat_summary\n",
    "from dscigametrics.daily_plot import daily_plot\n",
    "from dscigametrics.find_campaigns import find_campaigns\n",
    "import pandas as pd\n",
    "\n",
    "# print(dscigametrics.stat_summary.__version__)"
   ]
  },
  {
   "cell_type": "markdown",
   "metadata": {},
   "source": [
    "# Read Data\n",
    "## Read the Google Analytics Data as a Pandas DataFrame"
   ]
  },
  {
   "cell_type": "code",
   "execution_count": 7,
   "metadata": {},
   "outputs": [],
   "source": [
    "data_path = 'tests/ga_metrics_test_data.csv'\n",
    "data = pd.read_csv(data_path)"
   ]
  },
  {
   "cell_type": "markdown",
   "metadata": {},
   "source": [
    "# Examples"
   ]
  },
  {
   "cell_type": "markdown",
   "metadata": {},
   "source": [
    "## `stat_summary` - Return Statistic Summary of Specified Campaign\n",
    "Input a specific campaign ID and the dates to calculate mean, median and standard deviation from the data points, which are the values of the 4 metrics grouped by date.\n",
    "- The 4 metrics are identical as above.\n",
    "- The output will be a pandas Dataframe with index are the mean, median and standard deviation, and the columns are the 4 metrics."
   ]
  },
  {
   "cell_type": "markdown",
   "metadata": {},
   "source": [
    "### Assign the campaign ID and dates."
   ]
  },
  {
   "cell_type": "code",
   "execution_count": 8,
   "metadata": {},
   "outputs": [],
   "source": [
    "campaign_id = 219011657  # campaign ID's data type should be int\n",
    "start_date = 20220810  # the start date of the specified campaign, the data type should be int\n",
    "end_date = 20220811  # the end date of the specified campaign, the data type should be int"
   ]
  },
  {
   "cell_type": "code",
   "execution_count": 9,
   "metadata": {},
   "outputs": [
    {
     "data": {
      "text/html": [
       "<div>\n",
       "<style scoped>\n",
       "    .dataframe tbody tr th:only-of-type {\n",
       "        vertical-align: middle;\n",
       "    }\n",
       "\n",
       "    .dataframe tbody tr th {\n",
       "        vertical-align: top;\n",
       "    }\n",
       "\n",
       "    .dataframe thead th {\n",
       "        text-align: right;\n",
       "    }\n",
       "</style>\n",
       "<table border=\"1\" class=\"dataframe\">\n",
       "  <thead>\n",
       "    <tr style=\"text-align: right;\">\n",
       "      <th></th>\n",
       "      <th>return_rate</th>\n",
       "      <th>conversion_rate</th>\n",
       "      <th>ttl_revenue</th>\n",
       "      <th>avg_revenue</th>\n",
       "    </tr>\n",
       "  </thead>\n",
       "  <tbody>\n",
       "    <tr>\n",
       "      <th>Mean</th>\n",
       "      <td>0.85</td>\n",
       "      <td>0.05</td>\n",
       "      <td>389.5</td>\n",
       "      <td>38.95</td>\n",
       "    </tr>\n",
       "    <tr>\n",
       "      <th>Median</th>\n",
       "      <td>0.85</td>\n",
       "      <td>0.05</td>\n",
       "      <td>389.5</td>\n",
       "      <td>38.95</td>\n",
       "    </tr>\n",
       "    <tr>\n",
       "      <th>Standard Deviation</th>\n",
       "      <td>0.05</td>\n",
       "      <td>0.05</td>\n",
       "      <td>389.5</td>\n",
       "      <td>38.95</td>\n",
       "    </tr>\n",
       "  </tbody>\n",
       "</table>\n",
       "</div>"
      ],
      "text/plain": [
       "                    return_rate  conversion_rate  ttl_revenue  avg_revenue\n",
       "Mean                       0.85             0.05        389.5        38.95\n",
       "Median                     0.85             0.05        389.5        38.95\n",
       "Standard Deviation         0.05             0.05        389.5        38.95"
      ]
     },
     "execution_count": 9,
     "metadata": {},
     "output_type": "execute_result"
    }
   ],
   "source": [
    "summary = stat_summary(data, campaign_id, start_date, end_date)\n",
    "summary"
   ]
  },
  {
   "cell_type": "markdown",
   "metadata": {},
   "source": [
    "## Load Test Data "
   ]
  },
  {
   "cell_type": "code",
   "execution_count": 6,
   "metadata": {},
   "outputs": [],
   "source": [
    "data_path = '../tests/ga_metrics_test_data.csv'\n",
    "data = pd.read_csv(data_path)"
   ]
  },
  {
   "cell_type": "code",
   "execution_count": 8,
   "metadata": {},
   "outputs": [
    {
     "data": {
      "text/html": [
       "<div>\n",
       "<style scoped>\n",
       "    .dataframe tbody tr th:only-of-type {\n",
       "        vertical-align: middle;\n",
       "    }\n",
       "\n",
       "    .dataframe tbody tr th {\n",
       "        vertical-align: top;\n",
       "    }\n",
       "\n",
       "    .dataframe thead th {\n",
       "        text-align: right;\n",
       "    }\n",
       "</style>\n",
       "<table border=\"1\" class=\"dataframe\">\n",
       "  <thead>\n",
       "    <tr style=\"text-align: right;\">\n",
       "      <th></th>\n",
       "      <th>visitorId</th>\n",
       "      <th>visitNumber</th>\n",
       "      <th>visitId</th>\n",
       "      <th>visitStartTime</th>\n",
       "      <th>date</th>\n",
       "      <th>fullVisitorId</th>\n",
       "      <th>userId</th>\n",
       "      <th>clientId</th>\n",
       "      <th>channelGrouping</th>\n",
       "      <th>socialEngagementType</th>\n",
       "      <th>...</th>\n",
       "      <th>transaction.localTransactionShipping</th>\n",
       "      <th>transaction.transactionCoupon</th>\n",
       "      <th>item.transactionId</th>\n",
       "      <th>item.productName</th>\n",
       "      <th>item.productCategory</th>\n",
       "      <th>item.productSku</th>\n",
       "      <th>item.itemQuantity</th>\n",
       "      <th>item.itemRevenue</th>\n",
       "      <th>item.currencyCode</th>\n",
       "      <th>item.localItemRevenue</th>\n",
       "    </tr>\n",
       "  </thead>\n",
       "  <tbody>\n",
       "    <tr>\n",
       "      <th>0</th>\n",
       "      <td>NaN</td>\n",
       "      <td>1</td>\n",
       "      <td>1501591568</td>\n",
       "      <td>1501591568</td>\n",
       "      <td>20220801</td>\n",
       "      <td>3.418330e+18</td>\n",
       "      <td>NaN</td>\n",
       "      <td>NaN</td>\n",
       "      <td>Organic Search</td>\n",
       "      <td>Not Socially Engaged</td>\n",
       "      <td>...</td>\n",
       "      <td>NaN</td>\n",
       "      <td>NaN</td>\n",
       "      <td>NaN</td>\n",
       "      <td>NaN</td>\n",
       "      <td>NaN</td>\n",
       "      <td>NaN</td>\n",
       "      <td>NaN</td>\n",
       "      <td>NaN</td>\n",
       "      <td>NaN</td>\n",
       "      <td>NaN</td>\n",
       "    </tr>\n",
       "    <tr>\n",
       "      <th>1</th>\n",
       "      <td>NaN</td>\n",
       "      <td>2</td>\n",
       "      <td>1501589647</td>\n",
       "      <td>1501589647</td>\n",
       "      <td>20220802</td>\n",
       "      <td>2.474400e+18</td>\n",
       "      <td>NaN</td>\n",
       "      <td>NaN</td>\n",
       "      <td>Referral</td>\n",
       "      <td>Not Socially Engaged</td>\n",
       "      <td>...</td>\n",
       "      <td>NaN</td>\n",
       "      <td>NaN</td>\n",
       "      <td>NaN</td>\n",
       "      <td>NaN</td>\n",
       "      <td>NaN</td>\n",
       "      <td>NaN</td>\n",
       "      <td>NaN</td>\n",
       "      <td>NaN</td>\n",
       "      <td>NaN</td>\n",
       "      <td>NaN</td>\n",
       "    </tr>\n",
       "    <tr>\n",
       "      <th>2</th>\n",
       "      <td>NaN</td>\n",
       "      <td>1</td>\n",
       "      <td>1501616621</td>\n",
       "      <td>1501616621</td>\n",
       "      <td>20220803</td>\n",
       "      <td>5.870460e+18</td>\n",
       "      <td>NaN</td>\n",
       "      <td>NaN</td>\n",
       "      <td>Referral</td>\n",
       "      <td>Not Socially Engaged</td>\n",
       "      <td>...</td>\n",
       "      <td>NaN</td>\n",
       "      <td>NaN</td>\n",
       "      <td>NaN</td>\n",
       "      <td>NaN</td>\n",
       "      <td>NaN</td>\n",
       "      <td>NaN</td>\n",
       "      <td>NaN</td>\n",
       "      <td>NaN</td>\n",
       "      <td>NaN</td>\n",
       "      <td>NaN</td>\n",
       "    </tr>\n",
       "    <tr>\n",
       "      <th>3</th>\n",
       "      <td>NaN</td>\n",
       "      <td>1</td>\n",
       "      <td>1501601200</td>\n",
       "      <td>1501601200</td>\n",
       "      <td>20220804</td>\n",
       "      <td>9.397810e+18</td>\n",
       "      <td>NaN</td>\n",
       "      <td>NaN</td>\n",
       "      <td>Referral</td>\n",
       "      <td>Not Socially Engaged</td>\n",
       "      <td>...</td>\n",
       "      <td>NaN</td>\n",
       "      <td>NaN</td>\n",
       "      <td>NaN</td>\n",
       "      <td>NaN</td>\n",
       "      <td>NaN</td>\n",
       "      <td>NaN</td>\n",
       "      <td>NaN</td>\n",
       "      <td>NaN</td>\n",
       "      <td>NaN</td>\n",
       "      <td>NaN</td>\n",
       "    </tr>\n",
       "    <tr>\n",
       "      <th>4</th>\n",
       "      <td>NaN</td>\n",
       "      <td>1</td>\n",
       "      <td>1501615525</td>\n",
       "      <td>1501615525</td>\n",
       "      <td>20220805</td>\n",
       "      <td>6.089900e+18</td>\n",
       "      <td>NaN</td>\n",
       "      <td>NaN</td>\n",
       "      <td>Referral</td>\n",
       "      <td>Not Socially Engaged</td>\n",
       "      <td>...</td>\n",
       "      <td>NaN</td>\n",
       "      <td>NaN</td>\n",
       "      <td>NaN</td>\n",
       "      <td>NaN</td>\n",
       "      <td>NaN</td>\n",
       "      <td>NaN</td>\n",
       "      <td>NaN</td>\n",
       "      <td>NaN</td>\n",
       "      <td>NaN</td>\n",
       "      <td>NaN</td>\n",
       "    </tr>\n",
       "  </tbody>\n",
       "</table>\n",
       "<p>5 rows × 171 columns</p>\n",
       "</div>"
      ],
      "text/plain": [
       "   visitorId  visitNumber     visitId  visitStartTime      date  \\\n",
       "0        NaN            1  1501591568      1501591568  20220801   \n",
       "1        NaN            2  1501589647      1501589647  20220802   \n",
       "2        NaN            1  1501616621      1501616621  20220803   \n",
       "3        NaN            1  1501601200      1501601200  20220804   \n",
       "4        NaN            1  1501615525      1501615525  20220805   \n",
       "\n",
       "   fullVisitorId  userId  clientId channelGrouping  socialEngagementType  ...  \\\n",
       "0   3.418330e+18     NaN       NaN  Organic Search  Not Socially Engaged  ...   \n",
       "1   2.474400e+18     NaN       NaN        Referral  Not Socially Engaged  ...   \n",
       "2   5.870460e+18     NaN       NaN        Referral  Not Socially Engaged  ...   \n",
       "3   9.397810e+18     NaN       NaN        Referral  Not Socially Engaged  ...   \n",
       "4   6.089900e+18     NaN       NaN        Referral  Not Socially Engaged  ...   \n",
       "\n",
       "   transaction.localTransactionShipping  transaction.transactionCoupon  \\\n",
       "0                                   NaN                            NaN   \n",
       "1                                   NaN                            NaN   \n",
       "2                                   NaN                            NaN   \n",
       "3                                   NaN                            NaN   \n",
       "4                                   NaN                            NaN   \n",
       "\n",
       "   item.transactionId  item.productName  item.productCategory  \\\n",
       "0                 NaN               NaN                   NaN   \n",
       "1                 NaN               NaN                   NaN   \n",
       "2                 NaN               NaN                   NaN   \n",
       "3                 NaN               NaN                   NaN   \n",
       "4                 NaN               NaN                   NaN   \n",
       "\n",
       "   item.productSku  item.itemQuantity  item.itemRevenue  item.currencyCode  \\\n",
       "0              NaN                NaN               NaN                NaN   \n",
       "1              NaN                NaN               NaN                NaN   \n",
       "2              NaN                NaN               NaN                NaN   \n",
       "3              NaN                NaN               NaN                NaN   \n",
       "4              NaN                NaN               NaN                NaN   \n",
       "\n",
       "   item.localItemRevenue  \n",
       "0                    NaN  \n",
       "1                    NaN  \n",
       "2                    NaN  \n",
       "3                    NaN  \n",
       "4                    NaN  \n",
       "\n",
       "[5 rows x 171 columns]"
      ]
     },
     "execution_count": 8,
     "metadata": {},
     "output_type": "execute_result"
    }
   ],
   "source": [
    "data.head()"
   ]
  },
  {
   "cell_type": "markdown",
   "metadata": {},
   "source": [
    "## Example of `find_campaigns` \n",
    "#### Function Description:\n",
    "The `find_campaigns` function is part of a toolkit designed to analyze marketing campaign performance over a specified period using data from Google Analytics. By inputting a dataframe containing campaign information, alongside the desired date range and metrics, users can swiftly identify the most and least effective campaigns. It will return a dictionary for further use\n",
    "\n",
    "#### Steps:\n",
    "- Define the analysis period (in int or Timestamp data format)\n",
    "- Prepare the list of campaign IDs to analyze (in int format)\n",
    "- Decide the metric to evaluate campaign performance (in str format)\n",
    "- Call function to find the best and worst campaigns based on the conversion rate"
   ]
  },
  {
   "cell_type": "code",
   "execution_count": 12,
   "metadata": {},
   "outputs": [],
   "source": [
    "\n",
    "# Define the analysis period\n",
    "start_date = 20220801 \n",
    "end_date = 20220825   \n",
    "\n",
    "campaign_ids = [219011657, 140569061, 215934049, 123851219]\n",
    "\n",
    "# Metric to evaluate campaign performance\n",
    "metric = 'conversion_rate'\n",
    "\n",
    "# Find the best and worst campaigns based on the conversion rate\n",
    "output_dict = find_campaigns(\n",
    "    data=data,\n",
    "    start_date=start_date,\n",
    "    end_date=end_date,\n",
    "    campaign_ids=campaign_ids,\n",
    "    metric=metric\n",
    ")\n",
    "\n"
   ]
  },
  {
   "cell_type": "code",
   "execution_count": 13,
   "metadata": {},
   "outputs": [
    {
     "name": "stdout",
     "output_type": "stream",
     "text": [
      "{'best_campaign': {'id': 123851219, 'value': 0.116}, 'worst_campaign': {'id': 219011657, 'value': 0.056}}\n"
     ]
    }
   ],
   "source": [
    "print(output_dict)"
   ]
  },
  {
   "cell_type": "code",
   "execution_count": 15,
   "metadata": {},
   "outputs": [
    {
     "name": "stdout",
     "output_type": "stream",
     "text": [
      "Best Campaign: ID 123851219 with a conversion_rate of 0.116\n",
      "Worst Campaign: ID 219011657 with a conversion_rate of 0.056\n"
     ]
    }
   ],
   "source": [
    "\n",
    "print(f\"Best Campaign: ID {output_dict['best_campaign']['id']} with a {metric} of {output_dict['best_campaign']['value']}\")\n",
    "print(f\"Worst Campaign: ID {output_dict['worst_campaign']['id']} with a {metric} of {output_dict['worst_campaign']['value']}\")\n"
   ]
  },
  {
   "cell_type": "code",
   "execution_count": null,
   "metadata": {},
   "outputs": [],
   "source": []
  }
 ],
 "metadata": {
  "kernelspec": {
   "display_name": "Python 3 (ipykernel)",
   "language": "python",
   "name": "python3"
  },
  "language_info": {
   "codemirror_mode": {
    "name": "ipython",
    "version": 3
   },
   "file_extension": ".py",
   "mimetype": "text/x-python",
   "name": "python",
   "nbconvert_exporter": "python",
   "pygments_lexer": "ipython3",
   "version": "3.9.18"
  }
 },
 "nbformat": 4,
 "nbformat_minor": 4
}
