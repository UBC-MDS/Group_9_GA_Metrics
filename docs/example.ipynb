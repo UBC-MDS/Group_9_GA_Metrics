{
 "cells": [
  {
   "cell_type": "markdown",
   "metadata": {},
   "source": [
    "# Import Packages"
   ]
  },
  {
   "cell_type": "code",
   "execution_count": 20,
   "metadata": {},
   "outputs": [
    {
     "data": {
      "text/plain": [
       "'/Users/oybb/Desktop/UBC_MDS/block4/524_collab/Group_9_GA_Metrics'"
      ]
     },
     "execution_count": 20,
     "metadata": {},
     "output_type": "execute_result"
    }
   ],
   "source": [
    "from dscigametrics.compute_metrics import compute_metrics\n",
    "from dscigametrics.stat_summary import stat_summary\n",
    "from dscigametrics.daily_plot import daily_plot\n",
    "from dscigametrics.find_campaigns import find_campaigns\n",
    "import pandas as pd\n",
    "\n",
    "print(dscigametrics.__version__)"
   ]
  },
  {
   "cell_type": "markdown",
   "metadata": {},
   "source": [
    "# Read Data\n",
    "## Read the Google Analytics Data as a Pandas DataFrame"
   ]
  },
  {
   "cell_type": "code",
   "execution_count": 18,
   "metadata": {},
   "outputs": [],
   "source": [
    "data_path = 'tests/ga_metrics_test_data.csv'\n",
    "data = pd.read_csv(data_path)"
   ]
  },
  {
   "cell_type": "markdown",
   "metadata": {},
   "source": [
    "# Examples"
   ]
  },
  {
   "cell_type": "markdown",
   "metadata": {},
   "source": [
    "## `stat_summary` - Return Statistic Summary of Specified Campaign\n",
    "Input a specific campaign ID and the dates to calculate mean, median and standard deviation from the data points, which are the values of the 4 metrics grouped by date.\n",
    "- The 4 metrics are identical as above.\n",
    "- The output will be a pandas Dataframe with index are the mean, median and standard deviation, and the columns are the 4 metrics."
   ]
  },
  {
   "cell_type": "markdown",
   "metadata": {},
   "source": [
    "### Assign the campaign ID and dates."
   ]
  },
  {
   "cell_type": "code",
   "execution_count": null,
   "metadata": {},
   "outputs": [],
   "source": [
    "campaign_id = 219011657  # campaign ID's data type should be int\n",
    "start_date = 20220810  # the start date of the specified campaign, the data type should be int\n",
    "end_date = 20220811  # the end date of the specified campaign, the data type should be int"
   ]
  },
  {
   "cell_type": "code",
   "execution_count": null,
   "metadata": {},
   "outputs": [],
   "source": [
    "summary = stat_summary(data, campaign_id, start_date, end_date)\n",
    "summary"
   ]
  }
 ],
 "metadata": {
  "kernelspec": {
   "display_name": "Python 3 (ipykernel)",
   "language": "python",
   "name": "python3"
  },
  "language_info": {
   "codemirror_mode": {
    "name": "ipython",
    "version": 3
   },
   "file_extension": ".py",
   "mimetype": "text/x-python",
   "name": "python",
   "nbconvert_exporter": "python",
   "pygments_lexer": "ipython3",
   "version": "3.11.6"
  }
 },
 "nbformat": 4,
 "nbformat_minor": 4
}
